{
 "cells": [
  {
   "cell_type": "code",
   "execution_count": 4,
   "metadata": {},
   "outputs": [
    {
     "name": "stdout",
     "output_type": "stream",
     "text": [
      "Enter the first players Name: jdgf\n",
      "Enter the name of player 2: fgdhfj\n",
      "Player1, Enter your choice: 4654\n",
      "Player2, Enter your choice: 6845\n",
      "Player1 enter your secret bit: 1\n",
      "Player2 enter your secret bit: 1\n",
      "Player 2 wins\n",
      "Do you want to continue: y/n ? : n\n",
      "Thankyou for playing!\n"
     ]
    }
   ],
   "source": [
    "def r_p_s(n1,n2,b1,b2,a,b):\n",
    "    pp1=int(n1[b1])%3\n",
    "    pp2=int(n2[b2])%3\n",
    "    if (pr1[pp1]==pr2[pp2]):\n",
    "        print(\"Game Draw!\")\n",
    "    elif (pr1[pp1]==\"rock\" and pr2[pp2]==\"paper\"):\n",
    "        print(\"Player 2 wins\")\n",
    "        b=b+1\n",
    "    elif (pr1[pp1]==\"rock\" and pr2[pp2]==\"scissor\"):\n",
    "        print(\"Player 1 wins!\")\n",
    "        a=a+1\n",
    "    elif (pr1[pp1]==\"paper\" and pr2[pp2]==\"rock\"):\n",
    "        print(\"Player 1 wins!\")\n",
    "        a=a+1\n",
    "    elif (pr1[pp1]==\"paper\" and pr2[pp2]==\"scissor\"):\n",
    "        print(\"Player 2 wins!\")\n",
    "        b=b+1\n",
    "    elif (pr1[pp1]==\"scissor\" and pr2[pp2]==\"rock\"):\n",
    "        print(\"Player 2 wins!\")\n",
    "        b=b+1\n",
    "    elif (pr1[pp1]==\"scissor\" and pr2[pp2]==\"paper\"):\n",
    "        print(\"Player 1 wins!\")\n",
    "        a=a+1\n",
    "    else:\n",
    "        print(\"ERROR\")\n",
    "    #return a,b\n",
    "    \n",
    "pr1={0:'rock',1:'paper',2:'scissor'}\n",
    "pr2={0:'scissor',1:'rock',2:'paper'}\n",
    "p1=input(\"Enter the first players Name: \")\n",
    "p2=input(\"Enter the name of player 2: \")\n",
    "a=0\n",
    "b=0\n",
    "while(1):\n",
    "    n1=input(\"Player1, Enter your choice: \")\n",
    "    n2=input(\"Player2, Enter your choice: \")\n",
    "    b1=int(input(\"Player1 enter your secret bit: \"))\n",
    "    b2=int(input(\"Player2 enter your secret bit: \"))\n",
    "    r_p_s(n1,n2,b1,b2,a,b)\n",
    "    c=input(\"Do you want to continue: y/n ? : \")\n",
    "    if(c=='n') :\n",
    "        print(\"Thankyou for playing!\")\n",
    "        #print(\"Player1 score: \",a)\n",
    "        #print(\"Player2 score: \",b) \n",
    "        break     "
   ]
  },
  {
   "cell_type": "code",
   "execution_count": null,
   "metadata": {},
   "outputs": [],
   "source": []
  },
  {
   "cell_type": "code",
   "execution_count": null,
   "metadata": {},
   "outputs": [],
   "source": []
  },
  {
   "cell_type": "code",
   "execution_count": null,
   "metadata": {},
   "outputs": [],
   "source": []
  }
 ],
 "metadata": {
  "kernelspec": {
   "display_name": "Python 3",
   "language": "python",
   "name": "python3"
  },
  "language_info": {
   "codemirror_mode": {
    "name": "ipython",
    "version": 3
   },
   "file_extension": ".py",
   "mimetype": "text/x-python",
   "name": "python",
   "nbconvert_exporter": "python",
   "pygments_lexer": "ipython3",
   "version": "3.7.4"
  }
 },
 "nbformat": 4,
 "nbformat_minor": 2
}
